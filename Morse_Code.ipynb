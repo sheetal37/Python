{
 "cells": [
  {
   "cell_type": "code",
   "execution_count": null,
   "id": "47396c3e",
   "metadata": {},
   "outputs": [],
   "source": [
    "def to_morse_code(text):\n",
    "    # Dictionary representing the Morse code chart with 'di' and 'dah'\n",
    "    MORSE_CODE_DICT = {\n",
    "        'A': 'di-dah', 'B': 'dah-di-di-di', 'C': 'dah-di-dah-di',\n",
    "        'D': 'dah-di-di', 'E': 'di', 'F': 'di-di-dah-di', 'G': 'dah-dah-di',\n",
    "        'H': 'di-di-di-di', 'I': 'di-di', 'J': 'di-dah-dah-dah', 'K': 'dah-di-dah',\n",
    "        'L': 'di-dah-di-di', 'M': 'dah-dah', 'N': 'dah-di', 'O': 'dah-dah-dah',\n",
    "        'P': 'di-dah-dah-di', 'Q': 'dah-dah-di-dah', 'R': 'di-dah-di',\n",
    "        'S': 'di-di-di', 'T': 'dah', 'U': 'di-di-dah', 'V': 'di-di-di-dah',\n",
    "        'W': 'di-dah-dah', 'X': 'dah-di-di-dah', 'Y': 'dah-di-dah-dah',\n",
    "        'Z': 'dah-dah-di-di', '1': 'di-dah-dah-dah-dah', '2': 'di-di-dah-dah-dah',\n",
    "        '3': 'di-di-di-dah-dah', '4': 'di-di-di-di-dah', '5': 'di-di-di-di-di',\n",
    "        '6': 'dah-di-di-di-di', '7': 'dah-dah-di-di-di', '8': 'dah-dah-dah-di-di',\n",
    "        '9': 'dah-dah-dah-dah-di', '0': 'dah-dah-dah-dah-dah',\n",
    "        ',': 'dah-dah-di-di-dah-dah', '.': 'di-dah-di-dah-di-dah',\n",
    "        '?': 'di-di-dah-dah-di-di', '/': 'dah-di-di-dah-di', '-': 'dah-di-di-di-di-dah',\n",
    "        '(': 'dah-di-dah-dah-di', ')': 'dah-di-dah-dah-di-dah'\n",
    "    }\n",
    "    # Convert text to Morse code and join with spacem\n",
    "    return ' '.join(MORSE_CODE_DICT.get(char.upper(), '') for char in text)  #char.upper(): Converts each character in the input text to uppercase to match the keys in MORSE_CODE_DICT.\n",
    "print(to_morse_code(input(\"  \")))      #' '.join(...): Joins the Morse code representations of the characters with spaces between them to form the final Morse code string.\n",
    "\n",
    "\n",
    "\n",
    "\n",
    "\n",
    "\n",
    "\n"
   ]
  }
 ],
 "metadata": {
  "kernelspec": {
   "display_name": "Python 3 (ipykernel)",
   "language": "python",
   "name": "python3"
  },
  "language_info": {
   "codemirror_mode": {
    "name": "ipython",
    "version": 3
   },
   "file_extension": ".py",
   "mimetype": "text/x-python",
   "name": "python",
   "nbconvert_exporter": "python",
   "pygments_lexer": "ipython3",
   "version": "3.11.5"
  }
 },
 "nbformat": 4,
 "nbformat_minor": 5
}
