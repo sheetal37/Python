{
 "cells": [
  {
   "cell_type": "code",
   "execution_count": null,
   "id": "2e6d7547",
   "metadata": {
    "ExecuteTime": {
     "start_time": "2024-06-26T18:00:11.944Z"
    }
   },
   "outputs": [
    {
     "name": "stdout",
     "output_type": "stream",
     "text": [
      " !!!!!!   Password Creator   !!!!!!\n"
     ]
    }
   ],
   "source": [
    "import random as rd \n",
    "print(\" !!!!!!   Password Creator   !!!!!!\")\n",
    "letters=['a','b','c','d','e','f','g','h','i','j','k','l','m','n','o','p','q','r','s','t','u','v','w','x','y','z',\n",
    "         'A','B','C','D','E','F','G','H','I','K','L','M','N','O','P','Q','R','S','T','U','V','W','X','Y','Z']\n",
    "symbols=['!','@','#','$','%','&','*','+','-','_']\n",
    "numbers=['0','1','2','3','4','5','6','7','8','9','10']\n",
    "\n",
    "\n",
    "n_letters=int(input(\"How many letters do you want in your password: \"))\n",
    "n_symbols=int(input(\"How many Symbols want in your password: \"))\n",
    "n_numbers=int(input(\"How many Numbers want in your password: \"))\n",
    "\n",
    "password_list=[]\n",
    "\n",
    "for i in range(0,n_letters):\n",
    "    P=rd.choice(letters)\n",
    "    password_list+=P\n",
    "    \n",
    "for i in range(0,n_symbols):\n",
    "    q=rd.choice(symbols)\n",
    "    password_list+=q\n",
    "\n",
    "for i in range(0,n_numbers):\n",
    "    r=rd.choice(numbers)\n",
    "    password_list+=r\n",
    " \n",
    "rd.shuffle(password_list)\n",
    "\n",
    "password=\"\"\n",
    "\n",
    "for i in password_list:\n",
    "    password+=i\n",
    "print(\"Your Password:\" ,password)"
   ]
  }
 ],
 "metadata": {
  "kernelspec": {
   "display_name": "Python 3 (ipykernel)",
   "language": "python",
   "name": "python3"
  },
  "language_info": {
   "codemirror_mode": {
    "name": "ipython",
    "version": 3
   },
   "file_extension": ".py",
   "mimetype": "text/x-python",
   "name": "python",
   "nbconvert_exporter": "python",
   "pygments_lexer": "ipython3",
   "version": "3.11.5"
  }
 },
 "nbformat": 4,
 "nbformat_minor": 5
}
