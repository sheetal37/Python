{
 "cells": [
  {
   "cell_type": "markdown",
   "id": "e7203ad6",
   "metadata": {},
   "source": [
    "# Hangman_Game"
   ]
  },
  {
   "cell_type": "code",
   "execution_count": null,
   "id": "a5a248c1",
   "metadata": {
    "ExecuteTime": {
     "start_time": "2024-06-25T11:24:12.480Z"
    }
   },
   "outputs": [
    {
     "name": "stdout",
     "output_type": "stream",
     "text": [
      " \n",
      " _                                             \n",
      "| |                                            \n",
      "| |__   __ _ _ __   __ _ _ __ ___   __ _ _ __  \n",
      "| '_ \\ / _` | '_ \\ / _` | '_ ` _ \\ / _` | '_ \\ \n",
      "| | | | (_| | | | | (_| | | | | | | (_| | | | |\n",
      "|_| |_|\\__,_|_| |_|\\__, |_| |_| |_|\\__,_|_| |_|\n",
      "                    __/ |                      \n",
      "                   |___/    \n"
     ]
    }
   ],
   "source": [
    "import random\n",
    "import hangman_stages\n",
    "from hangman_stages import logo\n",
    "print(logo)\n",
    "\n",
    "word_list = [\"sheetal\", \"komal\", \"kajal\",\"manjesh\",\"muskan\",\"atul\",\"ishika\",\"parul\",\"jaywant\",\"vishan\",\"sivani\",\"sazia\",\"sazid\",\"akshita\",\"nikhil\",\"bhawesh\"]\n",
    "total_chance = 6\n",
    "choose_word = random.choice(word_list)\n",
    "display = ['-' for _ in choose_word]\n",
    "lives = total_chance\n",
    "game_over = False\n",
    "\n",
    "while not game_over:\n",
    "    guess = input(\"Guess a letter: \").lower()\n",
    "    \n",
    "    if guess in choose_word:\n",
    "        for position in range(len(choose_word)):\n",
    "            letter = choose_word[position]\n",
    "            if letter == guess:\n",
    "                display[position] = guess\n",
    "        print(f\"{' '.join(display)}\")\n",
    "    else:\n",
    "        lives -= 1\n",
    "        print(f\"sorry !!!  {lives} lives left.\")\n",
    "        print(hangman_stages.stages[lives])\n",
    "    \n",
    "    if '-' not in display:\n",
    "        game_over = True\n",
    "        print(\"Congratulation You win!!!\")\n",
    "    elif lives == 0:\n",
    "        game_over = True\n",
    "        print(\"You lose!!! The word was:\", choose_word)\n",
    "print(hangman_stages.stages[lives])"
   ]
  }
 ],
 "metadata": {
  "kernelspec": {
   "display_name": "Python 3 (ipykernel)",
   "language": "python",
   "name": "python3"
  },
  "language_info": {
   "codemirror_mode": {
    "name": "ipython",
    "version": 3
   },
   "file_extension": ".py",
   "mimetype": "text/x-python",
   "name": "python",
   "nbconvert_exporter": "python",
   "pygments_lexer": "ipython3",
   "version": "3.11.5"
  }
 },
 "nbformat": 4,
 "nbformat_minor": 5
}
