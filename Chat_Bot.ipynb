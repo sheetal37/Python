{
 "cells": [
  {
   "cell_type": "markdown",
   "id": "36de0236",
   "metadata": {},
   "source": [
    "#  Simple_Chat_bot"
   ]
  },
  {
   "cell_type": "code",
   "execution_count": null,
   "id": "247a2db6",
   "metadata": {},
   "outputs": [],
   "source": [
    "import time\n",
    "\n",
    "# Function to get the current time\n",
    "def get_current_time():\n",
    "    return time.ctime()\n",
    "\n",
    "# Dictionary of predefined questions and answers\n",
    "Qtion_ans = {\n",
    "    'hi': 'hey',\n",
    "    'how are you': 'I am fine.',\n",
    "    'what is your name': \"My name is Sheetal.\",\n",
    "    'how old are you': 'I am 24 years old.',\n",
    "    'do you know what the time is?': 'Not at all!',\n",
    "    'what time is it?': 'No clue!',\n",
    "    'what can you do?': 'I can answer questions!',\n",
    "    'what is the time now': get_current_time(),\n",
    "    'ok': 'Great.'\n",
    "}\n",
    "\n",
    "try:\n",
    "    while True:\n",
    "        question = input('YOU: ')\n",
    "        \n",
    "        if question.lower() == \"quit\":\n",
    "            break\n",
    "        else:\n",
    "            answer = Qtion_ans.get(question.lower(), \"Does not Exit\")\n",
    "            print(\"AI: \", answer)\n",
    "            \n",
    "except Exception as e:\n",
    "    print(\"Error:\", e)\n"
   ]
  }
 ],
 "metadata": {
  "kernelspec": {
   "display_name": "Python 3 (ipykernel)",
   "language": "python",
   "name": "python3"
  },
  "language_info": {
   "codemirror_mode": {
    "name": "ipython",
    "version": 3
   },
   "file_extension": ".py",
   "mimetype": "text/x-python",
   "name": "python",
   "nbconvert_exporter": "python",
   "pygments_lexer": "ipython3",
   "version": "3.11.5"
  }
 },
 "nbformat": 4,
 "nbformat_minor": 5
}
