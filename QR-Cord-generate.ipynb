{
 "cells": [
  {
   "cell_type": "markdown",
   "id": "513f2946",
   "metadata": {},
   "source": [
    "#  Restaurant"
   ]
  },
  {
   "cell_type": "code",
   "execution_count": 5,
   "id": "191b6f00",
   "metadata": {
    "ExecuteTime": {
     "end_time": "2024-06-25T11:43:25.679786Z",
     "start_time": "2024-06-25T11:43:11.396473Z"
    }
   },
   "outputs": [
    {
     "name": "stdout",
     "output_type": "stream",
     "text": [
      "Requirement already satisfied: qrcode in c:\\users\\lenovo\\anaconda3\\lib\\site-packages (7.4.2)\n",
      "Requirement already satisfied: typing-extensions in c:\\users\\lenovo\\anaconda3\\lib\\site-packages (from qrcode) (4.12.1)\n",
      "Requirement already satisfied: pypng in c:\\users\\lenovo\\anaconda3\\lib\\site-packages (from qrcode) (0.20220715.0)\n",
      "Requirement already satisfied: colorama in c:\\users\\lenovo\\anaconda3\\lib\\site-packages (from qrcode) (0.4.6)\n",
      "Note: you may need to restart the kernel to use updated packages.\n"
     ]
    }
   ],
   "source": [
    "pip install qrcode"
   ]
  },
  {
   "cell_type": "code",
   "execution_count": 7,
   "id": "6b59d0f5",
   "metadata": {
    "ExecuteTime": {
     "end_time": "2024-06-25T11:45:03.057915Z",
     "start_time": "2024-06-25T11:45:02.862303Z"
    }
   },
   "outputs": [
    {
     "name": "stdout",
     "output_type": "stream",
     "text": [
      "Successfully created! (Sample_qr.png)\n"
     ]
    }
   ],
   "source": [
    "import qrcode          #1st we import qrcode library\n",
    "\n",
    "# create a function for qrcode\n",
    "def create_qr(file_name:str,size:int,padding:int,fg:str,bg:str):\n",
    "    \n",
    "    #define qr\n",
    "    qr=qrcode.QRCode(box_size=size,border=padding)\n",
    "    \n",
    "    # give url for scanning\n",
    "    user_input: str='https://www.geeksforgeeks.org/simple-chat-room-using-python/'\n",
    "    \n",
    "    try:\n",
    "        qr.add_data(user_input)\n",
    "        qr_image=qr.make_image(fill_color=fg,back_color=bg) \n",
    "        qr_image.save(file_name)\n",
    "        \n",
    "        print(f'Successfully created! ({file_name})')\n",
    "    except Exception as e:\n",
    "        print(f'Error: {e}')\n",
    "    \n",
    "    # call function qr\n",
    "create_qr(file_name='Sample_qr.png',size=15,padding=2,fg='#000000',bg='white')\n",
    "        "
   ]
  }
 ],
 "metadata": {
  "kernelspec": {
   "display_name": "Python 3 (ipykernel)",
   "language": "python",
   "name": "python3"
  },
  "language_info": {
   "codemirror_mode": {
    "name": "ipython",
    "version": 3
   },
   "file_extension": ".py",
   "mimetype": "text/x-python",
   "name": "python",
   "nbconvert_exporter": "python",
   "pygments_lexer": "ipython3",
   "version": "3.11.5"
  }
 },
 "nbformat": 4,
 "nbformat_minor": 5
}
