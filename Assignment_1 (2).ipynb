{
 "cells": [
  {
   "cell_type": "markdown",
   "id": "619420b5",
   "metadata": {},
   "source": [
    "# Assingment_1\n"
   ]
  },
  {
   "cell_type": "code",
   "execution_count": 7,
   "id": "90c92fc0",
   "metadata": {
    "ExecuteTime": {
     "end_time": "2024-06-21T12:29:55.878797Z",
     "start_time": "2024-06-21T12:29:54.486821Z"
    }
   },
   "outputs": [
    {
     "name": "stdout",
     "output_type": "stream",
     "text": [
      "Enter the fahrenheit temperature:7\n",
      "fahrenheit to celsius temperature -13.88888888888889\n"
     ]
    }
   ],
   "source": [
    "#1.\tWrite a Python program to convert temperature from Fahrenheit to Celsius.\n",
    "\n",
    "fahrenheit = float(input(\"Enter the fahrenheit temperature:\"))\n",
    "cel = (fahrenheit - 32) * 5/9\n",
    "print(\"fahrenheit to celsius temperature\",cel)"
   ]
  },
  {
   "cell_type": "code",
   "execution_count": 5,
   "id": "5a3fe27c",
   "metadata": {
    "ExecuteTime": {
     "end_time": "2024-06-21T12:29:32.435096Z",
     "start_time": "2024-06-21T12:29:30.753709Z"
    }
   },
   "outputs": [
    {
     "name": "stdout",
     "output_type": "stream",
     "text": [
      "Enter the Fahrenheit temperature: 7\n",
      "7.0 degrees Fahrenheit is equal to -13.89 degrees Celsius.\n"
     ]
    }
   ],
   "source": [
    "#1.\tWrite a Python program to convert temperature from Fahrenheit to Celsius.\n",
    "def fahrenheit_to_celsius(fahrenheit):\n",
    "    return (fahrenheit - 32) * 5/9\n",
    "\n",
    "# Main program\n",
    "def main():\n",
    "    fahrenheit = float(input(\"Enter the Fahrenheit temperature: \"))\n",
    "    celsius = fahrenheit_to_celsius(fahrenheit)\n",
    "    print(f\"{fahrenheit} degrees Fahrenheit is equal to {celsius:.2f} degrees Celsius.\")\n",
    "main()\n"
   ]
  },
  {
   "cell_type": "code",
   "execution_count": 17,
   "id": "73a7acda",
   "metadata": {},
   "outputs": [
    {
     "name": "stdout",
     "output_type": "stream",
     "text": [
      "Enter temperature in Celsius: 6\n",
      "Temperature in Fahrenheit: 42.8\n"
     ]
    }
   ],
   "source": [
    "##1.\tWrite a Python program to convert temperature from celsius to fahrenheit.\n",
    "\n",
    "celsius = float(input(\"Enter temperature in Celsius: \"))\n",
    "fahrenheit = (celsius * 9/5) + 32\n",
    "print(\"Temperature in Fahrenheit:\",fahrenheit)"
   ]
  },
  {
   "cell_type": "code",
   "execution_count": 7,
   "id": "74348eda",
   "metadata": {},
   "outputs": [
    {
     "name": "stdout",
     "output_type": "stream",
     "text": [
      "Enter temperature in Celsius: 5\n",
      "Temperature in Fahrenheit: 41.0\n"
     ]
    }
   ],
   "source": [
    "#1.\tWrite a Python program to convert temperature from celsius to fahrenheit.\n",
    "\n",
    "def celsius_to_fahrenheit(celsius):\n",
    "    fahrenheit = (celsius * 9/5) + 32\n",
    "    return fahrenheit\n",
    "def main():\n",
    "    celsius = float(input(\"Enter temperature in Celsius: \"))\n",
    "    fahrenheit = celsius_to_fahrenheit(celsius)\n",
    "    print(\"Temperature in Fahrenheit:\", fahrenheit)\n",
    "main() "
   ]
  },
  {
   "cell_type": "code",
   "execution_count": 17,
   "id": "bbef1ef8",
   "metadata": {},
   "outputs": [
    {
     "name": "stdout",
     "output_type": "stream",
     "text": [
      "Enter the base:5\n",
      "Enter the height:5\n",
      "Area of the triangle: 12.5\n"
     ]
    }
   ],
   "source": [
    "#2.\tWrite a Python program to calculate the area of a triangle given its base and height.\n",
    "\n",
    "Base = float(input(\"Enter the base:\"))\n",
    "Height = float(input(\"Enter the height:\"))\n",
    "Area =  0.5 * Base * Height\n",
    "print(\"Area of the triangle:\",Area)"
   ]
  },
  {
   "cell_type": "code",
   "execution_count": 15,
   "id": "81b51c4a",
   "metadata": {},
   "outputs": [
    {
     "name": "stdout",
     "output_type": "stream",
     "text": [
      "Enter the base: 4\n",
      "Enter the height: 4\n",
      "Area of the triangle: 8.0\n"
     ]
    }
   ],
   "source": [
    "##2.\tWrite a Python program to calculate the area of a triangle given its base and height.\n",
    "\n",
    "def area_of_triangle(base,height):\n",
    "    area = 0.5 * base * height\n",
    "    return area\n",
    " \n",
    "base = float(input(\"Enter the base: \"))\n",
    "height = float(input(\"Enter the height: \"))\n",
    "area = area_of_triangle(base, height)\n",
    "print(\"Area of the triangle:\", area)\n",
    "\n"
   ]
  },
  {
   "cell_type": "code",
   "execution_count": 4,
   "id": "ac532548",
   "metadata": {},
   "outputs": [
    {
     "name": "stdout",
     "output_type": "stream",
     "text": [
      "Enter any number: 5\n",
      "5 is a prime number\n"
     ]
    }
   ],
   "source": [
    "## 3.Write a Python program to check if a number is prime or not.\n",
    "num = int(input(\"Enter any number: \"))\n",
    "if num > 1:\n",
    "    for i in range(2, num):\n",
    "        if (num % i) == 0:\n",
    "            print(num, \"is not a prime number\")\n",
    "            break\n",
    "    else:\n",
    "        print(num, \"is a prime number\")\n",
    "else:\n",
    "    print(num, \"is not a prime number\")\n"
   ]
  },
  {
   "cell_type": "code",
   "execution_count": 1,
   "id": "1d9ec903",
   "metadata": {},
   "outputs": [
    {
     "name": "stdout",
     "output_type": "stream",
     "text": [
      "Enter any number: 3\n",
      "3 is a prime number\n"
     ]
    }
   ],
   "source": [
    "def is_prime(num):\n",
    "    if num > 1:\n",
    "        for i in range(2, num):\n",
    "            if (num % i) == 0:\n",
    "                return False\n",
    "                break\n",
    "        else:\n",
    "            return True\n",
    "    else: \n",
    "        return False\n",
    "num = int(input(\"Enter any number: \"))\n",
    "if is_prime(num):\n",
    "    print(num, \"is a prime number\")\n",
    "else:\n",
    "    print(num, \"is not a prime number\")\n",
    "   "
   ]
  },
  {
   "cell_type": "code",
   "execution_count": null,
   "id": "3232f38f",
   "metadata": {},
   "outputs": [],
   "source": [
    "## 5.\tWrite a Python program to check if a string is a palindrome.\n",
    "\n",
    "str1=str(input(\"Enter a string:\")).casefold()\n",
    "rev_str1 = reversed(str1)\n",
    "if list(str1) == list(rev_str1):\n",
    "    print(\"string is a palindrome.\") \n",
    "else:\n",
    "    print(\"string is not a palindrome.\")"
   ]
  },
  {
   "cell_type": "code",
   "execution_count": 3,
   "id": "57fa43a2",
   "metadata": {},
   "outputs": [
    {
     "name": "stdout",
     "output_type": "stream",
     "text": [
      "Enter a string: jhkg\n",
      "String is not a palindrome.\n"
     ]
    }
   ],
   "source": [
    "## 5.\tWrite a Python program to check if a string is a palindrome.with fucntion\n",
    "def is_palindrome():\n",
    "    str1 = str(input(\"Enter a string: \")).casefold()\n",
    "    rev_str1 = reversed(str1)\n",
    "    \n",
    "    if list(str1) == list(rev_str1):\n",
    "        print(\"String is a palindrome.\")\n",
    "    else:\n",
    "        print(\"String is not a palindrome.\")\n",
    "\n",
    "is_palindrome()\n"
   ]
  },
  {
   "cell_type": "code",
   "execution_count": 12,
   "id": "3045aaad",
   "metadata": {},
   "outputs": [
    {
     "name": "stdout",
     "output_type": "stream",
     "text": [
      "Enter a number:4\n",
      "Number is a palindrome.\n"
     ]
    }
   ],
   "source": [
    "# Extra for number\n",
    "def palindrom_num():\n",
    "    num=(input(\"Enter a number:\"))\n",
    "    rev_num = reversed(num)\n",
    "    if list(num) == list(rev_num):\n",
    "        print(\"Number is a palindrome.\") \n",
    "    else:\n",
    "        print(\"NUmber is not a palindrome.\")\n",
    "palindrom_num()      "
   ]
  },
  {
   "cell_type": "code",
   "execution_count": 28,
   "id": "4bbf257b",
   "metadata": {},
   "outputs": [
    {
     "name": "stdout",
     "output_type": "stream",
     "text": [
      "Enter a number first:5\n",
      "Enter a number second:7\n",
      "Enter a number third:1\n",
      "Largest number is 7\n"
     ]
    }
   ],
   "source": [
    "#6.\tWrite a Python program to find the largest element in a list.\n",
    "num1 = int(input(\"Enter a number first:\"))\n",
    "num2 = int(input(\"Enter a number second:\"))\n",
    "num3 = int(input(\"Enter a number third:\"))\n",
    "\n",
    "if num1 >= num2 and num1 >= num3:\n",
    "    largest = num1\n",
    "elif num2 >= num1 and num2 >= num3:\n",
    "    largest = num2\n",
    "else:\n",
    "    largest = num3\n",
    "\n",
    "print(\"Largest number is\", largest)"
   ]
  },
  {
   "cell_type": "code",
   "execution_count": 30,
   "id": "43d9d345",
   "metadata": {},
   "outputs": [
    {
     "name": "stdout",
     "output_type": "stream",
     "text": [
      "Enter the first number: 4\n",
      "Enter the second number: 3\n",
      "Enter the third number: 2\n",
      "The largest number is: 4\n"
     ]
    },
    {
     "data": {
      "text/plain": [
       "4"
      ]
     },
     "execution_count": 30,
     "metadata": {},
     "output_type": "execute_result"
    }
   ],
   "source": [
    "def find_largest(num1, num2, num3):\n",
    "    if num1 >= num2 and num1 >= num3:\n",
    "        return num1\n",
    "    elif num2 >= num1 and num2 >= num3:\n",
    "        return num2\n",
    "    else:\n",
    "        return num3\n",
    "num1 = int(input(\"Enter the first number: \"))\n",
    "num2 = int(input(\"Enter the second number: \"))\n",
    "num3 = int(input(\"Enter the third number: \"))\n",
    "largest = find_largest(num1, num2, num3)\n",
    "print(\"The largest number is:\", largest)\n"
   ]
  },
  {
   "cell_type": "code",
   "execution_count": null,
   "id": "9b95f324",
   "metadata": {},
   "outputs": [],
   "source": [
    "###### 7.Write a Python program to print the first n numbers of the Fibonacci series.while loop\n",
    "\n",
    "num = int(input(\"Enter a number: \"))\n",
    "n1, n2 = 0, 1\n",
    "print(\"Fibonacci Series:\")\n",
    "while n1 < num:\n",
    "    print(n1)\n",
    "    n1, n2 = n2, n1 + n2    "
   ]
  },
  {
   "cell_type": "code",
   "execution_count": 20,
   "id": "e39ea832",
   "metadata": {},
   "outputs": [
    {
     "name": "stdout",
     "output_type": "stream",
     "text": [
      "Enter the number of Fibonacci numbers to generate: 5\n",
      "Fibonacci Series:\n",
      "0\n",
      "1\n",
      "1\n",
      "2\n",
      "3\n"
     ]
    }
   ],
   "source": [
    "def fibb_num():\n",
    "    num = int(input(\"Enter the number : \"))\n",
    "    n1, n2 = 0, 1\n",
    "    print(\"Fibonacci Series:\")\n",
    "    while n1 < num:\n",
    "        print(n1)\n",
    "        n1, n2 = n2, n1 + n2\n",
    "fibb_num()"
   ]
  },
  {
   "cell_type": "code",
   "execution_count": 1,
   "id": "f9d9a0ca",
   "metadata": {},
   "outputs": [
    {
     "name": "stdout",
     "output_type": "stream",
     "text": [
      "Enter a number: 5\n",
      "Fibonacci Series:\n",
      "0\n",
      "1\n",
      "1\n",
      "2\n",
      "3\n"
     ]
    }
   ],
   "source": [
    "#Write a Python program to print the first n numbers of the Fibonacci series.if condition\n",
    "\n",
    "num = int(input(\"Enter a number: \"))\n",
    "n1, n2 = 0, 1\n",
    "print(\"Fibonacci Series:\")\n",
    "if num >= 1:\n",
    "    print(n1)\n",
    "if num >= 2:\n",
    "    print(n2)\n",
    "for i in range(2, num):\n",
    "    n3 = n1 + n2\n",
    "    n1, n2 = n2, n3\n",
    "    print(n3)\n"
   ]
  },
  {
   "cell_type": "code",
   "execution_count": null,
   "id": "efdb1951",
   "metadata": {},
   "outputs": [],
   "source": [
    "#8.\tWrite a Python program to find the square root of a number.\n",
    "def sqrt1():\n",
    "    num = float(input(\"Enter a number: \"))\n",
    "    num_sqrt = num ** 0.5\n",
    "    print('The square root of %0.3f is %0.3f'%(num ,num_sqrt))\n",
    "sqrt1()"
   ]
  },
  {
   "cell_type": "code",
   "execution_count": null,
   "id": "36e4c946",
   "metadata": {},
   "outputs": [],
   "source": [
    "# 9.Write a Python program to calculate the circumference of a circle given its radius\n",
    "\n",
    "radius = float(input(\"Enter the radius of the circle: \"))\n",
    "circum= 2 * 3.14159 * radius\n",
    "print(\"circumference of the circle:\", circum)\n",
    "\n"
   ]
  },
  {
   "cell_type": "code",
   "execution_count": 23,
   "id": "6977c7be",
   "metadata": {},
   "outputs": [
    {
     "name": "stdout",
     "output_type": "stream",
     "text": [
      "Enter a year: 2023\n",
      "2023 is not a leap year\n"
     ]
    }
   ],
   "source": [
    "# 10.\tWrite a Python program to check if a year is a leap year or not.\n",
    "\n",
    "year = int(input(\"Enter a year: \"))\n",
    "if (year % 4 == 0 and year % 100 != 0) or (year % 400 == 0):\n",
    "    print(year, \"is a leap year\")\n",
    "else:\n",
    "    print(year, \"is not a leap year\")\n",
    "    \n",
    "    "
   ]
  },
  {
   "cell_type": "code",
   "execution_count": 8,
   "id": "1a02c1b9",
   "metadata": {},
   "outputs": [
    {
     "name": "stdout",
     "output_type": "stream",
     "text": [
      "Enter a list of number: 1 2 3 4 5 77\n",
      "Reversed list: [77, 5, 4, 3, 2, 1]\n"
     ]
    }
   ],
   "source": [
    "#11.\tWrite a Python program to reverse a list.\n",
    "'''list1=[1,2,3,4,5]\n",
    "list1.reverse()\n",
    "print(list1);\n",
    "\n",
    "#list1=[1,2,3,4,5]\n",
    "rev=list1[:: -1]\n",
    "print(rev);'''\n",
    "\n",
    "numbers = input(\"Enter a list of number: \")\n",
    "list1 = [int(num) for num in numbers.split()]\n",
    "list1.reverse()\n",
    "print(\"Reversed list:\", list1)"
   ]
  },
  {
   "cell_type": "code",
   "execution_count": 9,
   "id": "88bd0c60",
   "metadata": {},
   "outputs": [
    {
     "name": "stdout",
     "output_type": "stream",
     "text": [
      "Enter a list of number: 1 2 3 4 5 \n",
      "Reversed list: [5, 4, 3, 2, 1]\n"
     ]
    }
   ],
   "source": [
    "#11.\tWrite a Python program to reverse a list.with function\n",
    "def rev_list(input_list):\n",
    "    input_list.reverse()\n",
    "    return input_list\n",
    "numbers = input(\"Enter a list of number: \")\n",
    "list1 = [int(num) for num in numbers.split()]\n",
    "list1.reverse()\n",
    "print(\"Reversed list:\", list1)"
   ]
  },
  {
   "cell_type": "code",
   "execution_count": 33,
   "id": "3165de40",
   "metadata": {},
   "outputs": [
    {
     "name": "stdout",
     "output_type": "stream",
     "text": [
      "Sum of elements in the list: 65\n"
     ]
    }
   ],
   "source": [
    "#12.\tWrite a Python program to find the sum of all elements in a list. \n",
    "\n",
    "my_list = [1, 2, 3, 4, 55]\n",
    "list_sum_result = sum(my_list)   \n",
    "print(\"Sum of elements in the list:\", list_sum_result)"
   ]
  },
  {
   "cell_type": "code",
   "execution_count": 37,
   "id": "620050bb",
   "metadata": {},
   "outputs": [
    {
     "name": "stdout",
     "output_type": "stream",
     "text": [
      "Enter a list of integers separated by spaces: 12345\n",
      "Sum of elements in the list: 12345\n"
     ]
    }
   ],
   "source": [
    "##12.\tWrite a Python program to find the sum of all elements in a list\n",
    "my_list = [int(num) for num in input(\"Enter a list of integers separated by spaces: \").split()]\n",
    "\n",
    "# Calculate the sum of elements in the list and print the result\n",
    "print(\"Sum of elements in the list:\", sum(my_list))\n"
   ]
  },
  {
   "cell_type": "code",
   "execution_count": 34,
   "id": "aa63620f",
   "metadata": {},
   "outputs": [
    {
     "name": "stdout",
     "output_type": "stream",
     "text": [
      "Sum of elements in the list: 15\n"
     ]
    }
   ],
   "source": [
    "#12  Write a Python program to find the sum of all elements in a list.\n",
    "def list_sum(input_list):\n",
    "    return sum(input_list)\n",
    "my_list = [1, 2, 3, 4, 5]\n",
    "list_sum_result = list_sum(my_list)\n",
    "print(\"Sum of elements in the list:\", list_sum_result)"
   ]
  },
  {
   "cell_type": "code",
   "execution_count": 8,
   "id": "81b312f2",
   "metadata": {},
   "outputs": [
    {
     "name": "stdout",
     "output_type": "stream",
     "text": [
      "Enter the string :manjesh\n",
      "Total vowels are :2\n"
     ]
    }
   ],
   "source": [
    "## 13.\tWrite a Python program to count the number of vowels in a string.\n",
    "\n",
    "String = input('Enter the string :')\n",
    "count = 0\n",
    "String = String.lower()\n",
    "for i in String:\n",
    "    if i == 'a' or i == 'e' or i == 'i' or i == 'o' or i == 'u':\n",
    "        count+=1\n",
    "if count == 0:\n",
    "    print('This string not vowels')\n",
    "else:\n",
    "    print('Total vowels are :' + str(count)) "
   ]
  },
  {
   "cell_type": "code",
   "execution_count": null,
   "id": "174b4155",
   "metadata": {},
   "outputs": [],
   "source": [
    "#14.\tWrite a Python program to generate a random number between a given range.\n",
    "import random\n",
    "random.randint(1,10)"
   ]
  },
  {
   "cell_type": "code",
   "execution_count": null,
   "id": "bbd9f284",
   "metadata": {},
   "outputs": [],
   "source": [
    "#15.\tWrite a Python program to calculate the area of a rectangle given its length and width.\n",
    "\n",
    "length=int(input(\"Enter a length:\"))\n",
    "width=int(input(\"Enter a width:\"))\n",
    "area=length*width\n",
    "print(\"Area of rectangle:\",area)\n",
    "\n"
   ]
  },
  {
   "cell_type": "code",
   "execution_count": 11,
   "id": "fcfc0a6b",
   "metadata": {},
   "outputs": [
    {
     "name": "stdout",
     "output_type": "stream",
     "text": [
      "Enter a number:-2\n",
      "This number is negative\n"
     ]
    }
   ],
   "source": [
    "# 16.\tWrite a Python program to check if a number is positive, negative, or zero.\n",
    "\n",
    "num=int(input(\"Enter a number:\"))\n",
    "if num > 0:\n",
    "    print(\"This number is positive\")\n",
    "elif num == 0: \n",
    "    print(\"This number is zero\")\n",
    "else:\n",
    "    print(\"This number is negative\")\n",
    "\n"
   ]
  },
  {
   "cell_type": "code",
   "execution_count": 13,
   "id": "cf863ccb",
   "metadata": {},
   "outputs": [
    {
     "name": "stdout",
     "output_type": "stream",
     "text": [
      "Enter a string:sheetal\n"
     ]
    },
    {
     "data": {
      "text/plain": [
       "7"
      ]
     },
     "execution_count": 13,
     "metadata": {},
     "output_type": "execute_result"
    }
   ],
   "source": [
    "#17.\tWrite a Python program to find the length of a string.\n",
    "\n",
    "string=input(\"Enter a string:\")\n",
    "len(string)"
   ]
  },
  {
   "cell_type": "code",
   "execution_count": null,
   "id": "9bdde895",
   "metadata": {},
   "outputs": [],
   "source": [
    "#18.\tWrite a Python program to check if a number is a perfect square.\n",
    "\n",
    "num = int(input(\"Enter a number: \"))\n",
    "\n",
    "if num < 0:\n",
    "    print(\"This number is  not a perfect square:\",num)\n",
    "else:\n",
    "    i = 0\n",
    "    is_perfect_square = False\n",
    "    while i * i <= num:\n",
    "        if i * i == num:\n",
    "            is_perfect_square = True\n",
    "            break\n",
    "        i += 1\n",
    "\n",
    "    if is_perfect_square:\n",
    "        print(\"This number is a perfect number:\",num )\n",
    "    else:\n",
    "        print(\" is not a perfect square\",num)\n",
    "  "
   ]
  },
  {
   "cell_type": "code",
   "execution_count": null,
   "id": "7e2c99e2",
   "metadata": {},
   "outputs": [],
   "source": [
    "#19.\tWrite a Python program to generate the multiplication table of a number.\n",
    "Table=int(input(\"Enter a number:\"))\n",
    "for i in range(1,11):\n",
    "    print(Table,\"x\",i,\"=\",Table*i)"
   ]
  },
  {
   "cell_type": "code",
   "execution_count": 7,
   "id": "61491f44",
   "metadata": {},
   "outputs": [
    {
     "data": {
      "text/plain": [
       "3"
      ]
     },
     "execution_count": 7,
     "metadata": {},
     "output_type": "execute_result"
    }
   ],
   "source": [
    "# 20.\tWrite a Python program to find the median of a list of numbers.\n",
    "import statistics as s\n",
    "list1=[1,2,3,4,5]\n",
    "s.median(list1)"
   ]
  },
  {
   "cell_type": "code",
   "execution_count": 13,
   "id": "c8115fdb",
   "metadata": {
    "ExecuteTime": {
     "end_time": "2024-06-30T13:04:00.591540Z",
     "start_time": "2024-06-30T13:03:52.611192Z"
    }
   },
   "outputs": [
    {
     "name": "stdout",
     "output_type": "stream",
     "text": [
      "Enter a lower range:10\n",
      "Enter a upper range:45\n",
      "Prime numbers between 10 and 45 are:\n",
      "11\n",
      "13\n",
      "17\n",
      "19\n",
      "23\n",
      "29\n",
      "31\n",
      "37\n",
      "41\n",
      "43\n"
     ]
    }
   ],
   "source": [
    "#21.\tWrite a Python program to print all prime numbers in a given range. \n",
    "lower = int(input(\"Enter a lower range:\"))\n",
    "upper = int(input(\"Enter a upper range:\"))\n",
    "\n",
    "print(\"Prime numbers between\", lower, \"and\", upper, \"are:\")\n",
    "\n",
    "for num in range(lower, upper + 1):\n",
    "   # all prime numbers are greater than 1\n",
    "   if num > 1:\n",
    "       for i in range(2, num):\n",
    "           if (num % i) == 0:\n",
    "               break\n",
    "       else:\n",
    "           print(num)\n"
   ]
  },
  {
   "cell_type": "code",
   "execution_count": 24,
   "id": "e8d657d9",
   "metadata": {},
   "outputs": [
    {
     "name": "stdout",
     "output_type": "stream",
     "text": [
      "Enter first number3\n",
      "Enter second number6\n",
      "GDC: 3 and 6 is 3\n"
     ]
    }
   ],
   "source": [
    "#22.\tWrite a Python program to find the GCD (Greatest Common Divisor) of two numbers.\n",
    "num1 =int(input(\"Enter first number\"))\n",
    "num2 =int(input(\"Enter second number\"))\n",
    "gcd = 1\n",
    "\n",
    "for i in range(1, min(num1, num2) + 1):\n",
    "\n",
    "    if num1 % i == 0 and num2 % i == 0:\n",
    "        gcd = i\n",
    "print(\"GDC:\",num1,\"and\",num2,\"is\",gcd)"
   ]
  },
  {
   "cell_type": "code",
   "execution_count": 8,
   "id": "d2e013bc",
   "metadata": {},
   "outputs": [
    {
     "name": "stdout",
     "output_type": "stream",
     "text": [
      "Enter a string:30\n",
      "string is not a palindrome.\n"
     ]
    }
   ],
   "source": [
    "#23.\tWrite a Python program to check if a string is a palindrome\n",
    "\n",
    "str1=str(input(\"Enter a string:\")).casefold()\n",
    "rev_str1 = reversed(str1)\n",
    "if list(str1) == list(rev_str1):\n",
    "    print(\"string is a palindrome.\")\n",
    "else:\n",
    "    print(\"string is not a palindrome.\")\n",
    "\n",
    "\n"
   ]
  },
  {
   "cell_type": "code",
   "execution_count": 26,
   "id": "76f7e58c",
   "metadata": {},
   "outputs": [
    {
     "name": "stdout",
     "output_type": "stream",
     "text": [
      "Enter the value of first_term  : 1\n",
      "Enter the value of ratio: 2\n",
      "Enter the value of nth_term: 10\n",
      "1\n",
      "2\n",
      "4\n",
      "8\n",
      "16\n",
      "32\n",
      "64\n",
      "128\n",
      "256\n",
      "512\n"
     ]
    }
   ],
   "source": [
    "#24.\tWrite a Python program to print the first n terms of the geometric sequence.\n",
    "\n",
    "first_term = int(input(\"Enter the value of first_term  : \"))\n",
    "ratio = int(input(\"Enter the value of ratio: \"))\n",
    "nth_term = int(input(\"Enter the value of nth_term: \"))\n",
    "\n",
    "for i in range(1,nth_term+1):\n",
    "    term = first_term * ratio**(i-1)\n",
    "    print(term)\n",
    "\n"
   ]
  },
  {
   "cell_type": "code",
   "execution_count": 2,
   "id": "8812bb71",
   "metadata": {},
   "outputs": [],
   "source": [
    "#25.\tWrite a Python program to calculate the factorial of a number \n",
    "\n",
    "num1=int(input(\"Enter number: \"))\n",
    "fact=1\n",
    "num=num1\n",
    "while num>=1:\n",
    "    fact=num*fact\n",
    "    num=num-1 \n",
    "print(f\"Factorial of {num1} is {fact}\")"
   ]
  },
  {
   "cell_type": "code",
   "execution_count": 2,
   "id": "8c89d784",
   "metadata": {},
   "outputs": [
    {
     "name": "stdout",
     "output_type": "stream",
     "text": [
      "Enter a number: 8\n",
      "It's an even number\n"
     ]
    }
   ],
   "source": [
    "# 26.\tWrite a Python program to check if a number is even or odd.\n",
    "\n",
    "num = int(input(\"Enter a number: \"))\n",
    "if num % 2 == 0:\n",
    "    print(\"It's an even number\")\n",
    "else:\n",
    "    print(\"It's an odd number\")"
   ]
  },
  {
   "cell_type": "code",
   "execution_count": 11,
   "id": "c332fdf8",
   "metadata": {},
   "outputs": [
    {
     "name": "stdout",
     "output_type": "stream",
     "text": [
      "Enter a number for check odd or even: 3\n",
      "3  is an odd\n"
     ]
    }
   ],
   "source": [
    "num=int(input(\"Enter a number : \"))\n",
    "def even_odd(num):\n",
    "    \n",
    "    if(num%2==0):\n",
    "        print(num,\" Is an even\")\n",
    "    else:\n",
    "        print(num,\" is an odd\")\n",
    "even_odd(num);"
   ]
  },
  {
   "cell_type": "code",
   "execution_count": 62,
   "id": "c35e7cb5",
   "metadata": {},
   "outputs": [
    {
     "name": "stdout",
     "output_type": "stream",
     "text": [
      "Enter a number:33\n",
      "The number is not a Perfect number\n"
     ]
    }
   ],
   "source": [
    "#27.Write a Python program to check if a number is a perfect number\n",
    "\n",
    "n=int(input(\"Enter a number:\"))\n",
    "sum = 0\n",
    "\n",
    "for i in range(1, n):\n",
    "    if n % i == 0:\n",
    "        sum = sum + i\n",
    "\n",
    "if sum == n:\n",
    "    print(\"The number is a Perfect number\")\n",
    "else:\n",
    "    print(\"The number is not a Perfect number\")"
   ]
  },
  {
   "cell_type": "code",
   "execution_count": 17,
   "id": "7decbdc9",
   "metadata": {
    "ExecuteTime": {
     "end_time": "2024-06-30T13:09:36.685350Z",
     "start_time": "2024-06-30T13:09:33.750478Z"
    }
   },
   "outputs": [
    {
     "name": "stdout",
     "output_type": "stream",
     "text": [
      "Enter a string: The quick brown fox jumps over the lazy dog\n",
      "The string is a pangram.\n"
     ]
    }
   ],
   "source": [
    "# 28 Write a Python program to check if a given string is a pangram (contains all letters of the alphabet)\n",
    "\n",
    "import string\n",
    "\n",
    "# Get the input string from the user\n",
    "input_string = input(\"Enter a string: \")\n",
    "\n",
    "# Convert the input string to lowercase\n",
    "input_string = input_string.lower()\n",
    "\n",
    "# Create a set of all lowercase alphabet letters\n",
    "alphabet_set = set(string.ascii_lowercase)\n",
    "\n",
    "# Create a set of characters from the input string\n",
    "input_set = set(input_string)\n",
    "\n",
    "# Check if the alphabet set is a subset of the input string set\n",
    "is_pangram = alphabet_set <= input_set\n",
    "\n",
    "# Print the result\n",
    "if is_pangram:\n",
    "    print(\"The string is a pangram.\")\n",
    "else:\n",
    "    print(\"The string is not a pangram.\")\n"
   ]
  },
  {
   "cell_type": "code",
   "execution_count": 29,
   "id": "365316ab",
   "metadata": {},
   "outputs": [
    {
     "name": "stdout",
     "output_type": "stream",
     "text": [
      "Enter first number2\n",
      "Enter second number4\n",
      "LCM of 2 and 4 is 4\n"
     ]
    }
   ],
   "source": [
    "#29 Write a Python program to find the LCM (Least Common Multiple) of two numbers.\n",
    "num1 =int(input(\"Enter first number\"))\n",
    "num2 =int(input(\"Enter second number\"))\n",
    "for i in range(max(num1, num2), 1 + (num1 * num2)):\n",
    "    if i % num1 == i % num2 == 0:\n",
    "        lcm = i\n",
    "        break\n",
    "print(\"LCM of\", num1, \"and\", num2, \"is\", lcm)"
   ]
  },
  {
   "cell_type": "code",
   "execution_count": 6,
   "id": "0a819e8a",
   "metadata": {},
   "outputs": [
    {
     "name": "stdout",
     "output_type": "stream",
     "text": [
      "Enter a number: 1534\n",
      "The binary number: 0b10111111110\n",
      "The octal number: 0o2776\n",
      "The hexadecimal number: 0x5fe\n"
     ]
    }
   ],
   "source": [
    "#30 Write a Python program to convert a decimal number to binary.,octal,hexadecimal\n",
    "num = int(input(\"Enter a number: \"))\n",
    "binary = bin(num)\n",
    "octal  = oct(num)\n",
    "hexadecimal = hex(num)\n",
    "print(\"The binary number:\", binary)\n",
    "print(\"The octal number:\", octal)\n",
    "print(\"The hexadecimal number:\", hexadecimal)\n",
    "\n"
   ]
  },
  {
   "cell_type": "code",
   "execution_count": 8,
   "id": "dea3de94",
   "metadata": {},
   "outputs": [
    {
     "name": "stdout",
     "output_type": "stream",
     "text": [
      "ENter base value: 4\n",
      "ENter exponent value: 2\n",
      "Answer is : 16\n"
     ]
    }
   ],
   "source": [
    "#31 Write a Python program to calculate the power of a number\n",
    "\n",
    "base = int(input('ENter base value: '))\n",
    "exponent = int(input('Enter exponent value: '))\n",
    "pow1 = base**exponent\n",
    "print(\"\")"
   ]
  },
  {
   "cell_type": "code",
   "execution_count": 56,
   "id": "9ba90fb6",
   "metadata": {},
   "outputs": [
    {
     "name": "stdout",
     "output_type": "stream",
     "text": [
      "Enter any natural number: -9\n",
      " enter a positive number.\n",
      "The sum of the natural numbers is:  0\n"
     ]
    }
   ],
   "source": [
    "#32 Write a Python program to find the sum of natural numbers up to a given number.\n",
    "# Sum of natural numbers up to num\n",
    "\n",
    "\n",
    "n = int(input (\"Enter any natural number: \"))\n",
    "\n",
    "if n < 0:\n",
    "    print (' enter a positive number.')\n",
    "    \n",
    "else:\n",
    "    sum = 0\n",
    "while (n > 0):\n",
    "         sum +=n\n",
    "        n -=1\n",
    "print (\"The sum of the natural numbers is: \", sum)"
   ]
  },
  {
   "cell_type": "code",
   "execution_count": 55,
   "id": "bcb789cf",
   "metadata": {},
   "outputs": [
    {
     "name": "stdout",
     "output_type": "stream",
     "text": [
      "Enter a number:145\n",
      "Yes 145 is strong number\n"
     ]
    }
   ],
   "source": [
    "#33 Write a Python program to check if a given number is a strong number.\n",
    "n =int(input(\"Enter a number:\"))\n",
    "temp=n\n",
    "sum=0\n",
    "f=[0]*10\n",
    "f[0]=1\n",
    "f[1]=1\n",
    "for i in range(2,10):\n",
    "    f[i]=f[i-1]*i\n",
    "while(temp):\n",
    "    r=temp%10 \n",
    "    temp=temp//10\n",
    "    sum+=f[r]  \n",
    "\n",
    "if(sum==n):\n",
    "    print(\"Yes\", n ,\"is strong number\")\n",
    "\n",
    "else:\n",
    "    print(\"No\" , n, \"is not a strong number\")    \n"
   ]
  },
  {
   "cell_type": "code",
   "execution_count": 45,
   "id": "b3517599",
   "metadata": {},
   "outputs": [
    {
     "name": "stdout",
     "output_type": "stream",
     "text": [
      "Enter the value of n to generate the nth Fibonacci number: 2\n",
      "The nth Fibonacci number is: 1\n"
     ]
    }
   ],
   "source": [
    "#34 Write a Python program to generate the nth Fibonacci number.\n",
    "\n",
    "n = int(input(\"Enter the value of n to generate the nth Fibonacci number: \"))\n",
    "n1, n2 = 0, 1\n",
    "for _ in range(2, n):\n",
    "    next_term = n1 + n2\n",
    "    n1, n2 = n2, next_term\n",
    "print(\"The nth Fibonacci number is:\", n2 if n > 1 else n1)\n",
    "\n",
    "\n"
   ]
  },
  {
   "cell_type": "code",
   "execution_count": 1,
   "id": "826ff7e2",
   "metadata": {},
   "outputs": [],
   "source": [
    "#35 Write a Python program to check if a given string is an anagram of another string using a function.\n",
    "\n",
    "str1 =  m  .lower()\n",
    "str2= string2.replace(\" \", \"\").lower()\n",
    "\n",
    "# Check if lengths of both strings are equal\n",
    "if len(string1) != len(string2):\n",
    "    print(\"The strings are not anagrams.\")\n",
    "else:\n",
    "    # Sort both strings and compare\n",
    "    if sorted(string1) == sorted(string2):\n",
    "        print(\"The strings are anagrams.\")\n",
    "    else:\n",
    "        print(\"The strings are not anagrams.\")\n"
   ]
  },
  {
   "cell_type": "code",
   "execution_count": 12,
   "id": "db62279d",
   "metadata": {},
   "outputs": [
    {
     "name": "stdout",
     "output_type": "stream",
     "text": [
      "0\n",
      "1\n",
      "2\n",
      "3\n",
      "4\n"
     ]
    }
   ],
   "source": [
    "count = 0\n",
    "while count < 5:\n",
    "    print(count)\n",
    "    count += 1\n"
   ]
  },
  {
   "cell_type": "code",
   "execution_count": 14,
   "id": "bf40e2d6",
   "metadata": {},
   "outputs": [
    {
     "name": "stdout",
     "output_type": "stream",
     "text": [
      "['apple', 'banana', 'cherry']\n",
      "banana\n",
      "['apple', 'banana', 'cherry', 'orange']\n",
      "['apple', 'cherry', 'orange']\n"
     ]
    }
   ],
   "source": [
    "fruits = [\"apple\", \"banana\", \"cherry\"]\n",
    "print(fruits)\n",
    "\n",
    "# Accessing \n",
    "print(fruits[1])\n",
    "\n",
    "# Adding elements\n",
    "fruits.append(\"orange\")\n",
    "print(fruits)\n",
    "\n",
    "# Removing elements\n",
    "fruits.remove(\"banana\")8-\n",
    "print(fruits)\n"
   ]
  },
  {
   "cell_type": "code",
   "execution_count": 15,
   "id": "91799226",
   "metadata": {},
   "outputs": [
    {
     "name": "stdout",
     "output_type": "stream",
     "text": [
      "cherry\n"
     ]
    }
   ],
   "source": [
    "print(fruits[1])"
   ]
  },
  {
   "cell_type": "code",
   "execution_count": 4,
   "id": "f4e69d7e",
   "metadata": {},
   "outputs": [
    {
     "name": "stdout",
     "output_type": "stream",
     "text": [
      "a = 200\n",
      "b = 100\n",
      "a = 100\n",
      "b = 200\n"
     ]
    }
   ],
   "source": [
    "# swap number\n",
    "a=100\n",
    "b=200\n",
    "temp = a\n",
    "a = b\n",
    "b = temp\n",
    "print(\"a =\", a)\n",
    "print(\"b =\", b)"
   ]
  },
  {
   "cell_type": "code",
   "execution_count": 11,
   "id": "a2fbfe32",
   "metadata": {},
   "outputs": [
    {
     "name": "stdout",
     "output_type": "stream",
     "text": [
      "Enter a first number:4\n",
      "Enter a second number:3\n",
      "a first number= 3\n",
      "a second number = 4\n"
     ]
    }
   ],
   "source": [
    "# without third variable swap \n",
    "a=input(\"Enter a first number:\")\n",
    "b=input(\"Enter a second number:\")\n",
    "a, b = b, a\n",
    "\n",
    "print(\"a first number =\", a)\n",
    "print(\"a second number =\", b)\n"
   ]
  },
  {
   "cell_type": "code",
   "execution_count": 12,
   "id": "53190190",
   "metadata": {},
   "outputs": [
    {
     "name": "stdout",
     "output_type": "stream",
     "text": [
      "Enter a first number:4\n",
      "Enter a second number:3\n",
      "a first number = 3\n",
      "a second number = 4\n"
     ]
    }
   ],
   "source": [
    "def swap():\n",
    "    a=input(\"Enter a first number:\")\n",
    "    b=input(\"Enter a second number:\")\n",
    "    a, b = b, a\n",
    "\n",
    "    print(\"a first number =\", a)\n",
    "    print(\"a second number =\", b)\n",
    "swap()    \n"
   ]
  },
  {
   "cell_type": "code",
   "execution_count": 16,
   "id": "e2a3175d",
   "metadata": {},
   "outputs": [
    {
     "name": "stdout",
     "output_type": "stream",
     "text": [
      "Enter the principal amount: 3000\n",
      "Enter the rate of interest (in percentage): 4\n",
      "Enter the time period (in years): 5\n",
      "Simple Interest: 600.0\n"
     ]
    }
   ],
   "source": [
    "# calculate simple intrest\n",
    "principal = float(input(\"Enter the principal amount: \"))\n",
    "rate = float(input(\"Enter the rate of interest (in percentage): \"))\n",
    "time = float(input(\"Enter the time period (in years): \"))\n",
    "simple_interest=(principal*rate*time)/100\n",
    "print(\"Simple Interest:\", simple_interest)"
   ]
  },
  {
   "cell_type": "code",
   "execution_count": 22,
   "id": "2af026b9",
   "metadata": {},
   "outputs": [
    {
     "name": "stdout",
     "output_type": "stream",
     "text": [
      "Enter the principal amount: 3000\n",
      "Enter the rate of interest (in percentage): 2\n",
      "Enter the time period (in years): 1\n",
      "Simple Interest: 60.0\n"
     ]
    },
    {
     "data": {
      "text/plain": [
       "60.0"
      ]
     },
     "execution_count": 22,
     "metadata": {},
     "output_type": "execute_result"
    }
   ],
   "source": [
    "def simple_interest1(principal, rate, time):\n",
    "    return (principal * rate * time) / 100\n",
    "principal = float(input(\"Enter the principal amount: \"))\n",
    "rate = float(input(\"Enter the rate of interest (in percentage): \"))\n",
    "time = float(input(\"Enter the time period (in years): \"))\n",
    "simple_interest = simple_interest1(principal, rate, time) \n",
    "print(\"Simple Interest:\", simple_interest)\n",
    "simple_interest1(principal, rate, time)       "
   ]
  },
  {
   "cell_type": "code",
   "execution_count": null,
   "id": "8e1c2491",
   "metadata": {},
   "outputs": [],
   "source": []
  }
 ],
 "metadata": {
  "kernelspec": {
   "display_name": "Python 3 (ipykernel)",
   "language": "python",
   "name": "python3"
  },
  "language_info": {
   "codemirror_mode": {
    "name": "ipython",
    "version": 3
   },
   "file_extension": ".py",
   "mimetype": "text/x-python",
   "name": "python",
   "nbconvert_exporter": "python",
   "pygments_lexer": "ipython3",
   "version": "3.11.5"
  }
 },
 "nbformat": 4,
 "nbformat_minor": 5
}
