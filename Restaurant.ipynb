{
 "cells": [
  {
   "cell_type": "markdown",
   "id": "ba7cd46f",
   "metadata": {},
   "source": [
    "#  Restaurant"
   ]
  },
  {
   "cell_type": "code",
   "execution_count": 4,
   "id": "25604807",
   "metadata": {
    "ExecuteTime": {
     "end_time": "2024-06-25T11:33:06.064151Z",
     "start_time": "2024-06-25T11:32:45.195268Z"
    }
   },
   "outputs": [
    {
     "name": "stdout",
     "output_type": "stream",
     "text": [
      "WELCOME TO THE RESTAURANT\n",
      "Dosa:   Rs50\n",
      "Pizza:  Rs70\n",
      "Samosa: Rs15\n",
      "Kachodi:Rs15\n",
      "Tea:    Rs10\n",
      "Enter the name of the item you want to order: 5\n",
      "Order item 5 is not available yet\n",
      "Do you want to add another item? (yes/no): yes\n",
      "Enter the name of the second item: dosa\n",
      "Order item dosa is not available!\n",
      "Total amount for the items is Rs0\n"
     ]
    }
   ],
   "source": [
    "menu_items = {'Dosa': 50, 'Pizza': 70, 'Samosa': 15, 'Kachodi': 15, 'Tea': 10}\n",
    "\n",
    "print(\"WELCOME TO THE RESTAURANT\")\n",
    "print(\"Dosa:   Rs50\\nPizza:  Rs70\\nSamosa: Rs15\\nKachodi:Rs15\\nTea:    Rs10\")\n",
    "\n",
    "order_total = 0\n",
    "\n",
    "item_1 = input(\"Enter the name of the item you want to order: \")\n",
    "if item_1 in menu_items:\n",
    "    order_total += menu_items[item_1]\n",
    "    print(f\"Your item {item_1} has been added to your order\")\n",
    "else:\n",
    "    print(f\"Order item {item_1} is not available yet\")\n",
    "\n",
    "another_order = input(\"Do you want to add another item? (yes/no): \").lower()\n",
    "if another_order == \"yes\":\n",
    "    item_2 = input(\"Enter the name of the second item: \")\n",
    "    if item_2 in menu_items:\n",
    "        order_total += menu_items[item_2]\n",
    "        print(f\"Item {item_2} has been added to your order\")\n",
    "    else:\n",
    "        print(f\"Order item {item_2} is not available!\")\n",
    "\n",
    "print(f\"Total amount for the items is Rs{order_total}\")\n"
   ]
  },
  {
   "cell_type": "code",
   "execution_count": null,
   "id": "c0a2e1ab",
   "metadata": {},
   "outputs": [],
   "source": []
  }
 ],
 "metadata": {
  "kernelspec": {
   "display_name": "Python 3 (ipykernel)",
   "language": "python",
   "name": "python3"
  },
  "language_info": {
   "codemirror_mode": {
    "name": "ipython",
    "version": 3
   },
   "file_extension": ".py",
   "mimetype": "text/x-python",
   "name": "python",
   "nbconvert_exporter": "python",
   "pygments_lexer": "ipython3",
   "version": "3.11.5"
  }
 },
 "nbformat": 4,
 "nbformat_minor": 5
}
