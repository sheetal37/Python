{
 "cells": [
  {
   "cell_type": "markdown",
   "id": "383c3532",
   "metadata": {},
   "source": [
    "#  scissors paper rock game"
   ]
  },
  {
   "cell_type": "code",
   "execution_count": 3,
   "id": "a4b3263c",
   "metadata": {
    "ExecuteTime": {
     "end_time": "2024-06-25T11:30:57.080723Z",
     "start_time": "2024-06-25T11:30:56.390441Z"
    }
   },
   "outputs": [
    {
     "name": "stdout",
     "output_type": "stream",
     "text": [
      "enter Your choice:5\n",
      "Your choice: ['Rock', 'paper', 'scissors']\n",
      "computer choice: Rock\n",
      "Computer win!!!\n"
     ]
    }
   ],
   "source": [
    "import random\n",
    "\n",
    "option=[\"Rock\",\"paper\",\"scissors\"]\n",
    "user_choice=input(\"enter Your choice:\")\n",
    "computer_choice=random.choice(option)\n",
    "\n",
    "\n",
    "print(\"Your choice:\",option)\n",
    "print(\"computer choice:\",computer_choice)\n",
    "\n",
    "if user_choice == computer_choice:\n",
    "    print(\"it is tie\")\n",
    "elif user_choice ==\"Rock\" and computer_choice:\n",
    "    print(\"you win!!!\")\n",
    "elif user_choice == \"paper\" and   computer_choice:\n",
    "    print(\"you win\")\n",
    "          \n",
    "elif user_choice == \"scissors\" and   computer_choice:\n",
    "    print(\"you win\")\n",
    "else:\n",
    "    print(\"Computer win!!!\")"
   ]
  },
  {
   "cell_type": "code",
   "execution_count": null,
   "id": "bf44923f",
   "metadata": {},
   "outputs": [],
   "source": []
  }
 ],
 "metadata": {
  "kernelspec": {
   "display_name": "Python 3 (ipykernel)",
   "language": "python",
   "name": "python3"
  },
  "language_info": {
   "codemirror_mode": {
    "name": "ipython",
    "version": 3
   },
   "file_extension": ".py",
   "mimetype": "text/x-python",
   "name": "python",
   "nbconvert_exporter": "python",
   "pygments_lexer": "ipython3",
   "version": "3.11.5"
  }
 },
 "nbformat": 4,
 "nbformat_minor": 5
}
